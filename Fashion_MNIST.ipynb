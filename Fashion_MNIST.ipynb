{
  "cells": [
    {
      "cell_type": "markdown",
      "metadata": {
        "id": "view-in-github",
        "colab_type": "text"
      },
      "source": [
        "<a href=\"https://colab.research.google.com/github/SlavikHom/Learning/blob/main/Fashion_MNIST.ipynb\" target=\"_parent\"><img src=\"https://colab.research.google.com/assets/colab-badge.svg\" alt=\"Open In Colab\"/></a>"
      ]
    },
    {
      "cell_type": "markdown",
      "source": [
        "<p><img src=\"https://u.foxford.ngcdn.ru/uploads/inner_file/file/138229/model30.png\"></p>"
      ],
      "metadata": {
        "id": "Vph-t88mGOId"
      }
    },
    {
      "cell_type": "code",
      "execution_count": 13,
      "metadata": {
        "id": "gGA_UvWcvAGy"
      },
      "outputs": [],
      "source": [
        "import numpy as np\n",
        "import matplotlib.pyplot as plt\n",
        "import random\n",
        "\n",
        "from keras.datasets import fashion_mnist\n",
        "from keras.models import Sequential\n",
        "\n",
        "from keras.layers.core import Dense, Dropout, Activation \n",
        "from keras.utils import np_utils\n",
        "\n",
        "from keras.preprocessing.image import ImageDataGenerator\n",
        "from keras.layers import Conv2D, MaxPooling2D, ZeroPadding2D, GlobalAveragePooling2D, Flatten, BatchNormalization\n",
        "\n",
        "(X_train, y_train), (X_test, y_test) = fashion_mnist.load_data()"
      ]
    },
    {
      "cell_type": "code",
      "source": [
        "X_train = X_train.reshape(60000, 28, 28, 1)\n",
        "X_train = X_train.astype('float32')\n",
        "\n",
        "X_test = X_test.reshape(10000, 28, 28, 1)\n",
        "X_test = X_test.astype('float32')\n",
        " \n",
        "X_train /= 255\n",
        "X_test /= 255"
      ],
      "metadata": {
        "id": "UmD5E-grISNV"
      },
      "execution_count": 14,
      "outputs": []
    },
    {
      "cell_type": "code",
      "execution_count": 15,
      "metadata": {
        "id": "6atzb_vKB2f9"
      },
      "outputs": [],
      "source": [
        "y_test = np_utils.to_categorical(y_test, num_classes = 10)\n",
        "y_train = np_utils.to_categorical(y_train, num_classes = 10)"
      ]
    },
    {
      "cell_type": "code",
      "execution_count": 22,
      "metadata": {
        "id": "6HN4uXb-Oe0A"
      },
      "outputs": [],
      "source": [
        "model = Sequential()\n",
        "\n",
        "model.add(Conv2D(32, (3,3), input_shape=(28,28,1)))\n",
        "model.add(BatchNormalization(axis=-1)) # 0 1 -1 \n",
        "model.add(Activation(\"relu\"))\n",
        "\n",
        "model.add(Conv2D(32, (3,3)))\n",
        "model.add(BatchNormalization(axis=-1)) # 0 1 -1 \n",
        "model.add(Activation(\"relu\"))\n",
        "\n",
        "model.add(MaxPooling2D(pool_size=(2,2)))\n",
        "\n",
        "\n",
        "model.add(Conv2D(64, (3,3)))\n",
        "model.add(BatchNormalization(axis=-1)) # 0 1 -1 \n",
        "model.add(Activation(\"relu\"))\n",
        "\n",
        "model.add(Conv2D(64,(3,3)))\n",
        "model.add(BatchNormalization(axis=-1)) # 0 1 -1 \n",
        "model.add(Activation(\"relu\"))\n",
        "\n",
        "model.add(MaxPooling2D(pool_size=(2,2)))\n",
        "\n",
        "model.add(Flatten())\n",
        "\n",
        "model.add(Dense(512))\n",
        "model.add(BatchNormalization())\n",
        "model.add(Activation(\"relu\"))\n",
        "\n",
        "model.add(Dropout(0.45))\n",
        "model.add(Dense(10))\n",
        "model.add(Activation('softmax'))"
      ]
    },
    {
      "cell_type": "code",
      "source": [
        "model.compile(loss='categorical_crossentropy', optimizer = 'adam', metrics = ['accuracy'])"
      ],
      "metadata": {
        "id": "quLOVi0XJyxu"
      },
      "execution_count": 23,
      "outputs": []
    },
    {
      "cell_type": "code",
      "source": [
        "gen = ImageDataGenerator(rotation_range=8,\n",
        "                         width_shift_range=0.08,\n",
        "                         shear_range=0.3,\n",
        "                         height_shift_range=0.08,\n",
        "                         zoom_range=0.08)\n",
        "\n",
        "test_gen = ImageDataGenerator()"
      ],
      "metadata": {
        "id": "aDmF5esAKTpE"
      },
      "execution_count": 24,
      "outputs": []
    },
    {
      "cell_type": "code",
      "source": [
        "train_generator = gen.flow(X_train, y_train, batch_size = 128)\n",
        "test_generator = test_gen.flow(X_test, y_test, batch_size = 128)"
      ],
      "metadata": {
        "id": "rNXRdD2dm49r"
      },
      "execution_count": 25,
      "outputs": []
    },
    {
      "cell_type": "code",
      "execution_count": 26,
      "metadata": {
        "id": "-c9c70CyT6kw",
        "colab": {
          "base_uri": "https://localhost:8080/"
        },
        "outputId": "47c085ef-f13e-4700-f529-0f8bebcb2826"
      },
      "outputs": [
        {
          "output_type": "stream",
          "name": "stdout",
          "text": [
            "Epoch 1/10\n",
            "468/468 [==============================] - 24s 44ms/step - loss: 0.5509 - accuracy: 0.7972 - val_loss: 0.5122 - val_accuracy: 0.8098\n",
            "Epoch 2/10\n",
            "468/468 [==============================] - 19s 41ms/step - loss: 0.3791 - accuracy: 0.8596 - val_loss: 0.3197 - val_accuracy: 0.8876\n",
            "Epoch 3/10\n",
            "468/468 [==============================] - 20s 43ms/step - loss: 0.3358 - accuracy: 0.8758 - val_loss: 0.2755 - val_accuracy: 0.9019\n",
            "Epoch 4/10\n",
            "468/468 [==============================] - 19s 41ms/step - loss: 0.3095 - accuracy: 0.8859 - val_loss: 0.2982 - val_accuracy: 0.8960\n",
            "Epoch 5/10\n",
            "468/468 [==============================] - 20s 42ms/step - loss: 0.2932 - accuracy: 0.8917 - val_loss: 0.2960 - val_accuracy: 0.8940\n",
            "Epoch 6/10\n",
            "468/468 [==============================] - 20s 43ms/step - loss: 0.2801 - accuracy: 0.8959 - val_loss: 0.2565 - val_accuracy: 0.9055\n",
            "Epoch 7/10\n",
            "468/468 [==============================] - 19s 41ms/step - loss: 0.2699 - accuracy: 0.9011 - val_loss: 0.2739 - val_accuracy: 0.9000\n",
            "Epoch 8/10\n",
            "468/468 [==============================] - 20s 44ms/step - loss: 0.2634 - accuracy: 0.9044 - val_loss: 0.2610 - val_accuracy: 0.9064\n",
            "Epoch 9/10\n",
            "468/468 [==============================] - 20s 43ms/step - loss: 0.2524 - accuracy: 0.9089 - val_loss: 0.2409 - val_accuracy: 0.9108\n",
            "Epoch 10/10\n",
            "468/468 [==============================] - 19s 41ms/step - loss: 0.2448 - accuracy: 0.9103 - val_loss: 0.2373 - val_accuracy: 0.9139\n"
          ]
        },
        {
          "output_type": "execute_result",
          "data": {
            "text/plain": [
              "<keras.callbacks.History at 0x7faf8b824580>"
            ]
          },
          "metadata": {},
          "execution_count": 26
        }
      ],
      "source": [
        "model.fit(train_generator, steps_per_epoch=60000//128, epochs = 10 ,validation_data = test_generator, validation_steps = 10000//128)"
      ]
    },
    {
      "cell_type": "code",
      "execution_count": 28,
      "metadata": {
        "id": "uwYI6IB7Iu3W",
        "colab": {
          "base_uri": "https://localhost:8080/"
        },
        "outputId": "ede53c5c-329d-4de0-c7ab-abc701f9b35d"
      },
      "outputs": [
        {
          "output_type": "stream",
          "name": "stdout",
          "text": [
            "313/313 [==============================] - 1s 3ms/step - loss: 0.2379 - accuracy: 0.9138\n",
            "Test acc: 0.9138000011444092 \n"
          ]
        }
      ],
      "source": [
        "score = model.evaluate(X_test, y_test)\n",
        "print(f\"Test acc: {score[1]} \")"
      ]
    },
    {
      "cell_type": "code",
      "source": [
        "model.save('/content')"
      ],
      "metadata": {
        "id": "-U3Plj1d6hRw"
      },
      "execution_count": null,
      "outputs": []
    }
  ],
  "metadata": {
    "accelerator": "GPU",
    "colab": {
      "provenance": [],
      "include_colab_link": true
    },
    "kernelspec": {
      "display_name": "Python 3",
      "name": "python3"
    },
    "language_info": {
      "name": "python"
    }
  },
  "nbformat": 4,
  "nbformat_minor": 0
}